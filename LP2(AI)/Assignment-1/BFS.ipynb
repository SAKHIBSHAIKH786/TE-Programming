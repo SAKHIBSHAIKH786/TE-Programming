{
 "cells": [
  {
   "cell_type": "markdown",
   "metadata": {},
   "source": [
    "# BFS"
   ]
  },
  {
   "cell_type": "code",
   "execution_count": 4,
   "metadata": {},
   "outputs": [
    {
     "name": "stdout",
     "output_type": "stream",
     "text": [
      "The Breadth First Search Traversal for The Graph is as Follows: \n",
      "3 1 "
     ]
    }
   ],
   "source": [
    "from collections import defaultdict as dd  \n",
    "  \n",
    "class Graph:\n",
    "    def __init__(self): \n",
    "        self.graph = dd(list)\n",
    "        \n",
    "    def addEdgetoGraph(self, x, y):  \n",
    "        self.graph[x].append(y)  \n",
    "        \n",
    "    def BFSearch(self, n):\n",
    "        visited_vertices = ( len(self.graph ))*[False]\n",
    "        queue = []  \n",
    "\n",
    "        visited_vertices[n] = True  \n",
    "        queue.append(n)  \n",
    "          \n",
    "    \n",
    "        while queue:   \n",
    "            n = queue.pop(0)  \n",
    "            print (n, end = \" \")  \n",
    "            for v in self.graph[ n ]:  \n",
    "                if visited_vertices[v] == False:  \n",
    "                    queue.append(v)  \n",
    "                    visited_vertices[v] = True  \n",
    "    \n",
    "  \n",
    "\n",
    "graph = Graph()  \n",
    "graph.addEdgetoGraph(0, 1)  \n",
    "graph.addEdgetoGraph(1, 1)  \n",
    "graph.addEdgetoGraph(2, 2)  \n",
    "graph.addEdgetoGraph(3, 1)  \n",
    "graph.addEdgetoGraph(4, 3)  \n",
    "graph.addEdgetoGraph(5, 4)  \n",
    "    \n",
    "print(\"The Breadth First Search Traversal for The Graph is as Follows: \")  \n",
    "graph.BFSearch(3) "
   ]
  },
  {
   "cell_type": "markdown",
   "metadata": {},
   "source": [
    "# DFS"
   ]
  },
  {
   "cell_type": "code",
   "execution_count": 6,
   "metadata": {},
   "outputs": [
    {
     "name": "stdout",
     "output_type": "stream",
     "text": [
      "Following is the Depth-First Search\n",
      "5\n",
      "3\n",
      "2\n",
      "4\n",
      "8\n",
      "7\n"
     ]
    }
   ],
   "source": [
    "graph = {\n",
    "  '5' : ['3','7'],\n",
    "  '3' : ['2', '4'],\n",
    "  '7' : ['8'],\n",
    "  '2' : [],\n",
    "  '4' : ['8'],\n",
    "  '8' : []\n",
    "}\n",
    "\n",
    "\n",
    "def dfs(visited, graph, node):\n",
    "    if node not in visited:\n",
    "        print (node)\n",
    "        visited.add(node)\n",
    "        for neighbour in graph[node]:\n",
    "            dfs(visited, graph, neighbour)\n",
    "\n",
    "# Driver Code\n",
    "print(\"Following is the Depth-First Search\")\n",
    "dfs(visited, graph, '5')"
   ]
  }
 ],
 "metadata": {
  "kernelspec": {
   "display_name": "Python 3",
   "language": "python",
   "name": "python3"
  },
  "language_info": {
   "codemirror_mode": {
    "name": "ipython",
    "version": 3
   },
   "file_extension": ".py",
   "mimetype": "text/x-python",
   "name": "python",
   "nbconvert_exporter": "python",
   "pygments_lexer": "ipython3",
   "version": "3.7.3"
  }
 },
 "nbformat": 4,
 "nbformat_minor": 2
}
