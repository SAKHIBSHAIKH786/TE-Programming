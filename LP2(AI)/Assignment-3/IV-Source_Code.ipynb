{
 "cells": [
  {
   "cell_type": "code",
   "execution_count": 1,
   "id": "fcec949a",
   "metadata": {},
   "outputs": [
    {
     "name": "stdout",
     "output_type": "stream",
     "text": [
      "Enter number of Jobs: 5\n",
      "Enter Job name: a\n",
      "Enter Deadline: 2\n",
      "Enter Job value: 100\n",
      "Enter Job name: b\n",
      "Enter Deadline: 1\n",
      "Enter Job value: 19\n",
      "Enter Job name: c\n",
      "Enter Deadline: 2\n",
      "Enter Job value: 27\n",
      "Enter Job name: d\n",
      "Enter Deadline: 1\n",
      "Enter Job value: 25\n",
      "Enter Job name: e\n",
      "Enter Deadline: 3\n",
      "Enter Job value: 15\n",
      "Following is maximum profit sequence of jobs\n",
      "['c', 'a', 'e']\n"
     ]
    }
   ],
   "source": [
    "def printJobScheduling(arr, t):\n",
    "    n = len(arr)\n",
    "    \n",
    "    for i in range(n):\n",
    "        for j in range(n - 1 - i):\n",
    "            if arr[j][2] < arr[j + 1][2]:\n",
    "                arr[j], arr[j + 1] = arr[j + 1], arr[j]\n",
    "                \n",
    "    result = [False] * t\n",
    "    job = ['-1'] * t\n",
    "    \n",
    "    for i in range(len(arr)):\n",
    "        for j in range(min(t - 1, arr[i][1] - 1), -1, -1):\n",
    "            if result[j] is False:\n",
    "                result[j] = True\n",
    "                job[j] = arr[i][0]\n",
    "                break\n",
    "    print(job)\n",
    " \n",
    " \n",
    "#arr = [['a', 2, 100],  # Job Array\n",
    "#        ['b', 1, 19],\n",
    "#        ['c', 2, 27],\n",
    "#        ['d', 1, 25],\n",
    "#        ['e', 3, 15]]\n",
    "\n",
    "arr = []       \n",
    "user_size = int(input(\"Enter number of Jobs: \"))\n",
    "for i in range(user_size):\n",
    "    get_job_name = input(\"\\nEnter Job name: \")\n",
    "    job_deadline = int(input(\"Enter Deadline: \"))\n",
    "    job_value = int(input(\"Enter Job value: \"))\n",
    "    \n",
    "    temp = [get_job_name,job_deadline,job_value]\n",
    "    arr.append(temp)\n",
    "\n",
    "print(\"Following is maximum profit sequence of jobs\")\n",
    "printJobScheduling(arr, 3)"
   ]
  }
 ],
 "metadata": {
  "kernelspec": {
   "display_name": "Python 3 (ipykernel)",
   "language": "python",
   "name": "python3"
  },
  "language_info": {
   "codemirror_mode": {
    "name": "ipython",
    "version": 3
   },
   "file_extension": ".py",
   "mimetype": "text/x-python",
   "name": "python",
   "nbconvert_exporter": "python",
   "pygments_lexer": "ipython3",
   "version": "3.10.9"
  }
 },
 "nbformat": 4,
 "nbformat_minor": 5
}
