{
 "cells": [
  {
   "cell_type": "code",
   "execution_count": 1,
   "id": "ccfbf5a0",
   "metadata": {},
   "outputs": [
    {
     "name": "stdout",
     "output_type": "stream",
     "text": [
      "Enter the value of n: 4\n",
      "Number of solutions for 4-queens problem: 2\n",
      "0 0 1 0\n",
      "1 0 0 0\n",
      "0 0 0 1\n",
      "0 1 0 0\n",
      "\n",
      "0 1 0 0\n",
      "0 0 0 1\n",
      "1 0 0 0\n",
      "0 0 1 0\n",
      "\n"
     ]
    }
   ],
   "source": [
    "def is_safe(board, row, col):\n",
    "    for i in range(col):\n",
    "        if board[row][i] == 1:\n",
    "            return False\n",
    "    i = row\n",
    "    j = col\n",
    "    while i >= 0 and j >= 0:\n",
    "        if board[i][j] == 1:\n",
    "            return False\n",
    "        i -= 1\n",
    "        j -= 1\n",
    "        \n",
    "    i = row\n",
    "    j = col\n",
    "    while i < len(board) and j >= 0:\n",
    "        if board[i][j] == 1:\n",
    "            return False\n",
    "        i += 1\n",
    "        j -= 1\n",
    "\n",
    "    return True\n",
    "\n",
    "\n",
    "def solve_n_queens(board, col, solutions):\n",
    "    n = len(board)\n",
    "    if col >= n:\n",
    "        solutions.append([[1 if cell == 1 else 0 for cell in row] for row in board])\n",
    "        return\n",
    "    \n",
    "    for row in range(n):\n",
    "        if is_safe(board, row, col):\n",
    "            board[row][col] = 1\n",
    "            solve_n_queens(board, col + 1, solutions)\n",
    "            board[row][col] = 0\n",
    "\n",
    "\n",
    "def solve_nqueens(n):\n",
    "    board = [[0] * n for _ in range(n)]\n",
    "    solutions = []\n",
    "\n",
    "    solve_n_queens(board, 0, solutions)\n",
    "\n",
    "    return solutions\n",
    "\n",
    "n = int(input(\"Enter the value of n: \"))\n",
    "\n",
    "solutions = solve_nqueens(n)\n",
    "print(f\"Number of solutions for {n}-queens problem: {len(solutions)}\")\n",
    "for solution in solutions:\n",
    "    for row in solution:\n",
    "        print(\" \".join(str(cell) for cell in row))\n",
    "    print()"
   ]
  }
 ],
 "metadata": {
  "kernelspec": {
   "display_name": "Python 3 (ipykernel)",
   "language": "python",
   "name": "python3"
  },
  "language_info": {
   "codemirror_mode": {
    "name": "ipython",
    "version": 3
   },
   "file_extension": ".py",
   "mimetype": "text/x-python",
   "name": "python",
   "nbconvert_exporter": "python",
   "pygments_lexer": "ipython3",
   "version": "3.10.9"
  }
 },
 "nbformat": 4,
 "nbformat_minor": 5
}
