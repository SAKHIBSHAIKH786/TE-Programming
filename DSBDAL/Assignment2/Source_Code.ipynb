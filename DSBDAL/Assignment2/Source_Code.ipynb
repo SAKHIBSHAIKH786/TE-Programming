{
 "cells": [
  {
   "cell_type": "markdown",
   "id": "292990db",
   "metadata": {},
   "source": [
    "# Part-I Data Gathering"
   ]
  },
  {
   "cell_type": "markdown",
   "id": "9bfd8386",
   "metadata": {},
   "source": [
    "## Importing Libraries"
   ]
  },
  {
   "cell_type": "code",
   "execution_count": 266,
   "id": "82400365",
   "metadata": {},
   "outputs": [],
   "source": [
    "import random\n",
    "import pandas as pd\n",
    "import numpy as np\n",
    "import matplotlib.pyplot as plt\n",
    "import seaborn as sns\n",
    "import names\n",
    "from scipy import stats"
   ]
  },
  {
   "cell_type": "markdown",
   "id": "d2417ecf",
   "metadata": {},
   "source": [
    "## Generating Random Student name"
   ]
  },
  {
   "cell_type": "code",
   "execution_count": 267,
   "id": "35f146f0",
   "metadata": {},
   "outputs": [
    {
     "name": "stdout",
     "output_type": "stream",
     "text": [
      "Random Iterations: 784\n",
      "784 names inserted!\n"
     ]
    }
   ],
   "source": [
    "# We will use 'n' random iteration to define the size of our dataset which will be somewhere 250 to 1000 entries\n",
    "# This will ensure that each time the dataset generated will be different from the previous one\n",
    "# Hence making the code and output for each individual run a bit different from previous ones.\n",
    "\n",
    "random_iteration = random.randint(250,1000)\n",
    "print(\"Random Iterations: {}\".format(random_iteration))\n",
    "\n",
    "# The array 'student_name' will store randomly generated student names\n",
    "student_name = []\n",
    "for i in range(random_iteration):\n",
    "    student_first_name = names.get_first_name()    # Generate random first name of student\n",
    "    student_last_name = ' '+names.get_last_name()  # Generate random last name of student\n",
    "    \n",
    "    student_full_name = student_first_name + student_last_name  # Concatenate First and Last name\n",
    "    student_name.append(student_full_name)   # Append Full name into 'student_name' array\n",
    "    \n",
    "print(\"{} names inserted!\".format(len(student_name)))"
   ]
  },
  {
   "cell_type": "code",
   "execution_count": 268,
   "id": "7e569400",
   "metadata": {},
   "outputs": [],
   "source": [
    "# The array 'student_dept' will contain the department name to which student belongs\n",
    "\n",
    "student_dept = []\n",
    "department_options = ['ENTC', 'COMPUTER', 'MECHANICAL','COMPUTER']   # Student can only belong to these Departments\n",
    "# One may choose to add 'n' number of departments as per the requirements\n",
    "\n",
    "for i in range(random_iteration):\n",
    "    student_dept.append(random.choice(department_options))\n",
    "    # This bit of code chooses/assigns random department to student from available option (department_option)"
   ]
  },
  {
   "cell_type": "markdown",
   "id": "e4aeb662",
   "metadata": {},
   "source": [
    "## Generating Random Student Marks in Physics"
   ]
  },
  {
   "cell_type": "code",
   "execution_count": 269,
   "id": "366f53c3",
   "metadata": {},
   "outputs": [],
   "source": [
    "# The array 'student_marks_phy' holds marks for each individual student in Physics\n",
    "\n",
    "student_marks_phy = []\n",
    "for i in range(random_iteration):       # If random iterator decides to give 250 records, we insert 250 records only\n",
    "    random_chance = random.randint(0,3)\n",
    "    \n",
    "    if random_chance == 0:\n",
    "        random_chance_2 = random.randint(0,1)\n",
    "        if random_chance_2 == 0:\n",
    "            student_marks_phy.append(random.randint(1,35))\n",
    "        else:\n",
    "            student_marks_phy.append(np.NaN)\n",
    "\n",
    "    elif random_chance == 1:\n",
    "        student_marks_phy.append(random.randint(36,55))\n",
    "\n",
    "    elif random_chance == 2:\n",
    "        student_marks_phy.append(random.randint(56,75))\n",
    "\n",
    "    elif random_chance == 3:\n",
    "        student_marks_phy.append(random.randint(76,100))\n",
    "\n",
    "    else:\n",
    "        student_marks_phy.append(random.randint(0,100))\n",
    "        \n",
    "# The 'IF-ELSE' statements are self explanatory\n",
    "# There we randomly add NaN values to our dataset, since it's a requirement"
   ]
  },
  {
   "cell_type": "markdown",
   "id": "1e01d1a9",
   "metadata": {},
   "source": [
    "## Generating Random Student Marks in Maths"
   ]
  },
  {
   "cell_type": "code",
   "execution_count": 270,
   "id": "ffb6f682",
   "metadata": {},
   "outputs": [],
   "source": [
    "# The array 'student_marks_math' holds marks for each individual student in Mathematics\n",
    "\n",
    "student_marks_math = []\n",
    "for i in range(random_iteration):\n",
    "    random_chance = random.randint(0,3)\n",
    "    if random_chance == 0:\n",
    "        student_marks_math.append(random.randint(1,35))\n",
    "        \n",
    "    elif random_chance == 1:\n",
    "        random_chance_2 = random.randint(0,1)\n",
    "        if random_chance_2 == 0:\n",
    "            student_marks_math.append(round(random.uniform(35,55),1))\n",
    "        else:\n",
    "            student_marks_math.append(np.NaN)\n",
    "            \n",
    "    elif random_chance == 2:\n",
    "        student_marks_math.append(random.randint(56,75))\n",
    "\n",
    "    elif random_chance == 3:\n",
    "        student_marks_math.append(random.randint(76,100))\n",
    "\n",
    "    else:\n",
    "        student_marks_math.append(random.randint(0,100))"
   ]
  },
  {
   "cell_type": "markdown",
   "id": "5a5e8213",
   "metadata": {},
   "source": [
    "## Generating Random Student Marks in Chemistry"
   ]
  },
  {
   "cell_type": "code",
   "execution_count": 271,
   "id": "52be889e",
   "metadata": {},
   "outputs": [],
   "source": [
    "# The array 'student_marks_chem' holds marks for each individual student in Chemistry\n",
    "\n",
    "student_marks_chem = []\n",
    "for i in range(random_iteration):\n",
    "    random_chance = random.randint(0,3)\n",
    "    \n",
    "    if random_chance == 0:\n",
    "        student_marks_chem.append(random.randint(1,35))\n",
    "\n",
    "    elif random_chance == 1:\n",
    "        student_marks_chem.append(random.randint(36,55))\n",
    "\n",
    "    elif random_chance == 2:\n",
    "        student_marks_chem.append(round(random.uniform(56,75),1))\n",
    "\n",
    "    elif random_chance == 3:\n",
    "        random_chance_2 = random.randint(0,1)\n",
    "        if random_chance_2 == 0:\n",
    "            student_marks_chem.append(random.randint(76,100))\n",
    "        else:\n",
    "            student_marks_chem.append(random.randint(150,300))\n",
    "\n",
    "    else:\n",
    "        student_marks_chem.append(round(random.uniform(0,100),1))"
   ]
  },
  {
   "cell_type": "markdown",
   "id": "55a25796",
   "metadata": {},
   "source": [
    "## Generating Random Student Marks in AI"
   ]
  },
  {
   "cell_type": "code",
   "execution_count": 272,
   "id": "9e9fad37",
   "metadata": {},
   "outputs": [],
   "source": [
    "# # The array 'student_marks_ai' holds marks for each individual student in AI\n",
    "\n",
    "student_marks_ai = []\n",
    "for i in range(random_iteration):\n",
    "    random_chance = random.randint(0,3)\n",
    "    \n",
    "    if random_chance == 0:\n",
    "        student_marks_ai.append(round(random.uniform(1,35),1))\n",
    "\n",
    "    elif random_chance == 1:\n",
    "        random_chance_2 = random.randint(0,1)\n",
    "        if random_chance_2 == 0:\n",
    "            student_marks_ai.append(random.randint(36,55))\n",
    "        else:\n",
    "            student_marks_ai.append(np.NaN)\n",
    "\n",
    "    elif random_chance == 2:\n",
    "        student_marks_ai.append(random.randint(56,75))\n",
    "\n",
    "    elif random_chance == 3:\n",
    "        student_marks_ai.append(random.randint(76,100))\n",
    "\n",
    "    else:\n",
    "        student_marks_ai.append(round(random.uniform(0,100),1))"
   ]
  },
  {
   "cell_type": "markdown",
   "id": "e2d588d0",
   "metadata": {},
   "source": [
    "## Generating Random Student Term work marks"
   ]
  },
  {
   "cell_type": "code",
   "execution_count": 273,
   "id": "8f96c145",
   "metadata": {},
   "outputs": [],
   "source": [
    "# This array will hold student term work marks\n",
    "# This too will be randomly generated from the scale of 1-10\n",
    "\n",
    "student_term_work = []\n",
    "for i in range(random_iteration):\n",
    "    student_term_work.append(random.randint(1,10))"
   ]
  },
  {
   "cell_type": "markdown",
   "id": "18579aa7",
   "metadata": {},
   "source": [
    "## Generating Random Birthdate"
   ]
  },
  {
   "cell_type": "code",
   "execution_count": 274,
   "id": "9b1b407f",
   "metadata": {},
   "outputs": [],
   "source": [
    "# The array 'student_birthdate' will hold student DOB\n",
    "# The array 'possible_date' will contain all dates betwenn 2001-01-01 to 2003-12-31\n",
    "\n",
    "student_birthdate = []\n",
    "\n",
    "possible_date = []\n",
    "\n",
    "for year in range(1,4):   # Begin with year 2001, iterate till 2003\n",
    "    temp = []\n",
    "    for month in range (1,13):   # Begin with month 01, iterate till 12\n",
    "        if month != 2 and month%2==1:  # If month is not 2 and it belongs to 1,3,5... then it has 31 days\n",
    "            for days in range(1,31):\n",
    "                test = '200'+str(year)+'-'+str(month)+'-'+str(days)\n",
    "                possible_date.append(test)\n",
    "        elif month==2 and month%2==0:  # If month is 2 (FEB), add only 28 days\n",
    "            for days in range(1,29):\n",
    "                test = '200'+str(year)+'-'+str(month)+'-'+str(days)\n",
    "                possible_date.append(test)\n",
    "        else:    # Remaining months belonging to 4,6,8... will have 30 days\n",
    "            for days in range(1,31):\n",
    "                test = '200'+str(year)+'-'+str(month)+'-'+str(days)\n",
    "                possible_date.append(test)\n",
    "\n",
    "# The code below will choose a random date from 'possible_date' as DOB of student\n",
    "for i in range(random_iteration):\n",
    "    student_birthdate.append(random.choice(possible_date))"
   ]
  },
  {
   "cell_type": "markdown",
   "id": "8b0a3b0a",
   "metadata": {},
   "source": [
    "## Combining all values into 1 dictionary"
   ]
  },
  {
   "cell_type": "code",
   "execution_count": 275,
   "id": "addcd95e",
   "metadata": {},
   "outputs": [],
   "source": [
    "# Dictionay = {'column name': array values ... }\n",
    "\n",
    "finalized_dict = {'Student Name':student_name,\n",
    "                  'Department':student_dept,\n",
    "                 'Physics':student_marks_phy,\n",
    "                 'Mathematics':student_marks_math,\n",
    "                 'Chemistry':student_marks_chem,\n",
    "                 'AI':student_marks_ai,\n",
    "                 'Term Work':student_term_work,\n",
    "                 'DOB':student_birthdate}"
   ]
  },
  {
   "cell_type": "markdown",
   "id": "afa3a0de",
   "metadata": {},
   "source": [
    "## Converting Dictionary to CSV"
   ]
  },
  {
   "cell_type": "code",
   "execution_count": 276,
   "id": "1dc1f4cf",
   "metadata": {},
   "outputs": [],
   "source": [
    "# We can also choose to save this dictionary as CSV and then work on the CSV\n",
    "# Rather we choose to convert dictionary directly to dataframe, hence saving disk space and hasle\n",
    "\n",
    "df = pd.DataFrame.from_dict(finalized_dict)\n",
    "\n",
    "# Saving dataframe as csv\n",
    "df.to_csv('Academic Performance.csv')\n",
    "\n",
    "# The CSV file will be saved in the same directory where the source code belongs"
   ]
  },
  {
   "cell_type": "markdown",
   "id": "d4207b3d",
   "metadata": {},
   "source": [
    "# Part-II Exploring Dataset"
   ]
  },
  {
   "cell_type": "markdown",
   "id": "05ae7926",
   "metadata": {},
   "source": [
    "## Displaying our dataframe"
   ]
  },
  {
   "cell_type": "code",
   "execution_count": 277,
   "id": "e7a0043a",
   "metadata": {},
   "outputs": [
    {
     "data": {
      "text/html": [
       "<div>\n",
       "<style scoped>\n",
       "    .dataframe tbody tr th:only-of-type {\n",
       "        vertical-align: middle;\n",
       "    }\n",
       "\n",
       "    .dataframe tbody tr th {\n",
       "        vertical-align: top;\n",
       "    }\n",
       "\n",
       "    .dataframe thead th {\n",
       "        text-align: right;\n",
       "    }\n",
       "</style>\n",
       "<table border=\"1\" class=\"dataframe\">\n",
       "  <thead>\n",
       "    <tr style=\"text-align: right;\">\n",
       "      <th></th>\n",
       "      <th>Student Name</th>\n",
       "      <th>Department</th>\n",
       "      <th>Physics</th>\n",
       "      <th>Mathematics</th>\n",
       "      <th>Chemistry</th>\n",
       "      <th>AI</th>\n",
       "      <th>Term Work</th>\n",
       "      <th>DOB</th>\n",
       "    </tr>\n",
       "  </thead>\n",
       "  <tbody>\n",
       "    <tr>\n",
       "      <th>0</th>\n",
       "      <td>Theresa Blue</td>\n",
       "      <td>COMPUTER</td>\n",
       "      <td>62.0</td>\n",
       "      <td>4.0</td>\n",
       "      <td>64.1</td>\n",
       "      <td>74.0</td>\n",
       "      <td>8</td>\n",
       "      <td>2003-2-19</td>\n",
       "    </tr>\n",
       "    <tr>\n",
       "      <th>1</th>\n",
       "      <td>Teresa Gipson</td>\n",
       "      <td>ENTC</td>\n",
       "      <td>66.0</td>\n",
       "      <td>21.0</td>\n",
       "      <td>297.0</td>\n",
       "      <td>39.0</td>\n",
       "      <td>2</td>\n",
       "      <td>2001-3-2</td>\n",
       "    </tr>\n",
       "    <tr>\n",
       "      <th>2</th>\n",
       "      <td>Miguel Gibson</td>\n",
       "      <td>MECHANICAL</td>\n",
       "      <td>43.0</td>\n",
       "      <td>71.0</td>\n",
       "      <td>218.0</td>\n",
       "      <td>67.0</td>\n",
       "      <td>7</td>\n",
       "      <td>2002-2-15</td>\n",
       "    </tr>\n",
       "    <tr>\n",
       "      <th>3</th>\n",
       "      <td>Diane Griffin</td>\n",
       "      <td>ENTC</td>\n",
       "      <td>58.0</td>\n",
       "      <td>69.0</td>\n",
       "      <td>53.0</td>\n",
       "      <td>21.6</td>\n",
       "      <td>7</td>\n",
       "      <td>2001-4-5</td>\n",
       "    </tr>\n",
       "    <tr>\n",
       "      <th>4</th>\n",
       "      <td>Leigh Taylor</td>\n",
       "      <td>MECHANICAL</td>\n",
       "      <td>NaN</td>\n",
       "      <td>71.0</td>\n",
       "      <td>252.0</td>\n",
       "      <td>84.0</td>\n",
       "      <td>2</td>\n",
       "      <td>2002-5-7</td>\n",
       "    </tr>\n",
       "    <tr>\n",
       "      <th>...</th>\n",
       "      <td>...</td>\n",
       "      <td>...</td>\n",
       "      <td>...</td>\n",
       "      <td>...</td>\n",
       "      <td>...</td>\n",
       "      <td>...</td>\n",
       "      <td>...</td>\n",
       "      <td>...</td>\n",
       "    </tr>\n",
       "    <tr>\n",
       "      <th>779</th>\n",
       "      <td>Melinda Haynes</td>\n",
       "      <td>COMPUTER</td>\n",
       "      <td>2.0</td>\n",
       "      <td>92.0</td>\n",
       "      <td>42.0</td>\n",
       "      <td>3.8</td>\n",
       "      <td>1</td>\n",
       "      <td>2003-9-3</td>\n",
       "    </tr>\n",
       "    <tr>\n",
       "      <th>780</th>\n",
       "      <td>Margo Kless</td>\n",
       "      <td>MECHANICAL</td>\n",
       "      <td>NaN</td>\n",
       "      <td>23.0</td>\n",
       "      <td>191.0</td>\n",
       "      <td>49.0</td>\n",
       "      <td>2</td>\n",
       "      <td>2001-5-25</td>\n",
       "    </tr>\n",
       "    <tr>\n",
       "      <th>781</th>\n",
       "      <td>Joyce Eck</td>\n",
       "      <td>MECHANICAL</td>\n",
       "      <td>NaN</td>\n",
       "      <td>92.0</td>\n",
       "      <td>72.7</td>\n",
       "      <td>48.0</td>\n",
       "      <td>1</td>\n",
       "      <td>2002-3-5</td>\n",
       "    </tr>\n",
       "    <tr>\n",
       "      <th>782</th>\n",
       "      <td>Travis Spenser</td>\n",
       "      <td>ENTC</td>\n",
       "      <td>85.0</td>\n",
       "      <td>86.0</td>\n",
       "      <td>88.0</td>\n",
       "      <td>78.0</td>\n",
       "      <td>6</td>\n",
       "      <td>2002-4-4</td>\n",
       "    </tr>\n",
       "    <tr>\n",
       "      <th>783</th>\n",
       "      <td>Aurora Miles</td>\n",
       "      <td>MECHANICAL</td>\n",
       "      <td>100.0</td>\n",
       "      <td>69.0</td>\n",
       "      <td>46.0</td>\n",
       "      <td>34.3</td>\n",
       "      <td>2</td>\n",
       "      <td>2003-5-22</td>\n",
       "    </tr>\n",
       "  </tbody>\n",
       "</table>\n",
       "<p>784 rows × 8 columns</p>\n",
       "</div>"
      ],
      "text/plain": [
       "       Student Name  Department  Physics  Mathematics  Chemistry    AI  \\\n",
       "0      Theresa Blue    COMPUTER     62.0          4.0       64.1  74.0   \n",
       "1     Teresa Gipson        ENTC     66.0         21.0      297.0  39.0   \n",
       "2     Miguel Gibson  MECHANICAL     43.0         71.0      218.0  67.0   \n",
       "3     Diane Griffin        ENTC     58.0         69.0       53.0  21.6   \n",
       "4      Leigh Taylor  MECHANICAL      NaN         71.0      252.0  84.0   \n",
       "..              ...         ...      ...          ...        ...   ...   \n",
       "779  Melinda Haynes    COMPUTER      2.0         92.0       42.0   3.8   \n",
       "780     Margo Kless  MECHANICAL      NaN         23.0      191.0  49.0   \n",
       "781       Joyce Eck  MECHANICAL      NaN         92.0       72.7  48.0   \n",
       "782  Travis Spenser        ENTC     85.0         86.0       88.0  78.0   \n",
       "783    Aurora Miles  MECHANICAL    100.0         69.0       46.0  34.3   \n",
       "\n",
       "     Term Work        DOB  \n",
       "0            8  2003-2-19  \n",
       "1            2   2001-3-2  \n",
       "2            7  2002-2-15  \n",
       "3            7   2001-4-5  \n",
       "4            2   2002-5-7  \n",
       "..         ...        ...  \n",
       "779          1   2003-9-3  \n",
       "780          2  2001-5-25  \n",
       "781          1   2002-3-5  \n",
       "782          6   2002-4-4  \n",
       "783          2  2003-5-22  \n",
       "\n",
       "[784 rows x 8 columns]"
      ]
     },
     "execution_count": 277,
     "metadata": {},
     "output_type": "execute_result"
    }
   ],
   "source": [
    "df\n",
    "# We can also use print(df) or display(df)"
   ]
  },
  {
   "cell_type": "markdown",
   "id": "68c79357",
   "metadata": {},
   "source": [
    "**This is our dataset on which we will be working on.**"
   ]
  },
  {
   "cell_type": "code",
   "execution_count": 278,
   "id": "00352ab6",
   "metadata": {},
   "outputs": [
    {
     "name": "stdout",
     "output_type": "stream",
     "text": [
      "<class 'pandas.core.frame.DataFrame'>\n",
      "RangeIndex: 784 entries, 0 to 783\n",
      "Data columns (total 8 columns):\n",
      " #   Column        Non-Null Count  Dtype  \n",
      "---  ------        --------------  -----  \n",
      " 0   Student Name  784 non-null    object \n",
      " 1   Department    784 non-null    object \n",
      " 2   Physics       675 non-null    float64\n",
      " 3   Mathematics   695 non-null    float64\n",
      " 4   Chemistry     784 non-null    float64\n",
      " 5   AI            684 non-null    float64\n",
      " 6   Term Work     784 non-null    int64  \n",
      " 7   DOB           784 non-null    object \n",
      "dtypes: float64(4), int64(1), object(3)\n",
      "memory usage: 49.1+ KB\n"
     ]
    }
   ],
   "source": [
    "# Displaying info of our dataset\n",
    "\n",
    "df.info()"
   ]
  },
  {
   "cell_type": "code",
   "execution_count": 279,
   "id": "04f57e22",
   "metadata": {},
   "outputs": [
    {
     "data": {
      "text/html": [
       "<div>\n",
       "<style scoped>\n",
       "    .dataframe tbody tr th:only-of-type {\n",
       "        vertical-align: middle;\n",
       "    }\n",
       "\n",
       "    .dataframe tbody tr th {\n",
       "        vertical-align: top;\n",
       "    }\n",
       "\n",
       "    .dataframe thead th {\n",
       "        text-align: right;\n",
       "    }\n",
       "</style>\n",
       "<table border=\"1\" class=\"dataframe\">\n",
       "  <thead>\n",
       "    <tr style=\"text-align: right;\">\n",
       "      <th></th>\n",
       "      <th>Physics</th>\n",
       "      <th>Mathematics</th>\n",
       "      <th>Chemistry</th>\n",
       "      <th>AI</th>\n",
       "      <th>Term Work</th>\n",
       "    </tr>\n",
       "  </thead>\n",
       "  <tbody>\n",
       "    <tr>\n",
       "      <th>count</th>\n",
       "      <td>675.000000</td>\n",
       "      <td>695.000000</td>\n",
       "      <td>784.000000</td>\n",
       "      <td>684.000000</td>\n",
       "      <td>784.000000</td>\n",
       "    </tr>\n",
       "    <tr>\n",
       "      <th>mean</th>\n",
       "      <td>58.491852</td>\n",
       "      <td>55.071655</td>\n",
       "      <td>71.267092</td>\n",
       "      <td>57.170760</td>\n",
       "      <td>5.600765</td>\n",
       "    </tr>\n",
       "    <tr>\n",
       "      <th>std</th>\n",
       "      <td>23.926219</td>\n",
       "      <td>28.839885</td>\n",
       "      <td>64.217161</td>\n",
       "      <td>28.555803</td>\n",
       "      <td>2.833849</td>\n",
       "    </tr>\n",
       "    <tr>\n",
       "      <th>min</th>\n",
       "      <td>2.000000</td>\n",
       "      <td>1.000000</td>\n",
       "      <td>1.000000</td>\n",
       "      <td>1.200000</td>\n",
       "      <td>1.000000</td>\n",
       "    </tr>\n",
       "    <tr>\n",
       "      <th>25%</th>\n",
       "      <td>43.000000</td>\n",
       "      <td>29.000000</td>\n",
       "      <td>36.000000</td>\n",
       "      <td>33.275000</td>\n",
       "      <td>3.000000</td>\n",
       "    </tr>\n",
       "    <tr>\n",
       "      <th>50%</th>\n",
       "      <td>58.000000</td>\n",
       "      <td>59.000000</td>\n",
       "      <td>56.500000</td>\n",
       "      <td>62.000000</td>\n",
       "      <td>6.000000</td>\n",
       "    </tr>\n",
       "    <tr>\n",
       "      <th>75%</th>\n",
       "      <td>78.000000</td>\n",
       "      <td>78.500000</td>\n",
       "      <td>74.825000</td>\n",
       "      <td>81.000000</td>\n",
       "      <td>8.000000</td>\n",
       "    </tr>\n",
       "    <tr>\n",
       "      <th>max</th>\n",
       "      <td>100.000000</td>\n",
       "      <td>100.000000</td>\n",
       "      <td>300.000000</td>\n",
       "      <td>100.000000</td>\n",
       "      <td>10.000000</td>\n",
       "    </tr>\n",
       "  </tbody>\n",
       "</table>\n",
       "</div>"
      ],
      "text/plain": [
       "          Physics  Mathematics   Chemistry          AI   Term Work\n",
       "count  675.000000   695.000000  784.000000  684.000000  784.000000\n",
       "mean    58.491852    55.071655   71.267092   57.170760    5.600765\n",
       "std     23.926219    28.839885   64.217161   28.555803    2.833849\n",
       "min      2.000000     1.000000    1.000000    1.200000    1.000000\n",
       "25%     43.000000    29.000000   36.000000   33.275000    3.000000\n",
       "50%     58.000000    59.000000   56.500000   62.000000    6.000000\n",
       "75%     78.000000    78.500000   74.825000   81.000000    8.000000\n",
       "max    100.000000   100.000000  300.000000  100.000000   10.000000"
      ]
     },
     "execution_count": 279,
     "metadata": {},
     "output_type": "execute_result"
    }
   ],
   "source": [
    "# Desribing information of our dataset\n",
    "# Here the columns with int or float values will be displayed\n",
    "\n",
    "df.describe()"
   ]
  },
  {
   "cell_type": "markdown",
   "id": "6ce0a032",
   "metadata": {},
   "source": [
    "## Finding missing or Null values"
   ]
  },
  {
   "cell_type": "code",
   "execution_count": 280,
   "id": "a15bcd82",
   "metadata": {},
   "outputs": [
    {
     "data": {
      "text/plain": [
       "Student Name      0\n",
       "Department        0\n",
       "Physics         109\n",
       "Mathematics      89\n",
       "Chemistry         0\n",
       "AI              100\n",
       "Term Work         0\n",
       "DOB               0\n",
       "dtype: int64"
      ]
     },
     "execution_count": 280,
     "metadata": {},
     "output_type": "execute_result"
    }
   ],
   "source": [
    "# Find count of missing values from our dataset\n",
    "# Remember that we delibrately inserted some NaN values, so there has to be some Missing/NULL values\n",
    "# The count of missing values will vary from run to run\n",
    "\n",
    "df.isnull().sum()"
   ]
  },
  {
   "cell_type": "markdown",
   "id": "d5136bdf",
   "metadata": {},
   "source": [
    "## Treating Null values"
   ]
  },
  {
   "cell_type": "code",
   "execution_count": 281,
   "id": "7f01847f",
   "metadata": {},
   "outputs": [],
   "source": [
    "# Fill the NULL values with the mean of each column\n",
    "# Here we fill the Missing/NULL with mean of that column\n",
    "# Only the column Chemistry (int) does not have any kind of missing values, hence we skip it\n",
    "\n",
    "df['Physics'].fillna(value=df['Physics'].mean(), inplace=True)\n",
    "df['Mathematics'].fillna(value=df['Mathematics'].mean(), inplace=True)\n",
    "df['AI'].fillna(value=df['AI'].mean(), inplace=True)"
   ]
  },
  {
   "cell_type": "markdown",
   "id": "a52e66d4",
   "metadata": {},
   "source": [
    "## Checking for any residual Null values"
   ]
  },
  {
   "cell_type": "code",
   "execution_count": 282,
   "id": "e4d389d7",
   "metadata": {},
   "outputs": [
    {
     "data": {
      "text/plain": [
       "Student Name    0\n",
       "Department      0\n",
       "Physics         0\n",
       "Mathematics     0\n",
       "Chemistry       0\n",
       "AI              0\n",
       "Term Work       0\n",
       "DOB             0\n",
       "dtype: int64"
      ]
     },
     "execution_count": 282,
     "metadata": {},
     "output_type": "execute_result"
    }
   ],
   "source": [
    "# Re-checking for any remaining Missing/NULL values or leftovers\n",
    "\n",
    "df.isnull().sum()"
   ]
  },
  {
   "cell_type": "markdown",
   "id": "962f963a",
   "metadata": {},
   "source": [
    "**The dataset is now cleaned and free from any kind of NULL values.**"
   ]
  },
  {
   "cell_type": "markdown",
   "id": "4d60984f",
   "metadata": {},
   "source": [
    "## Detecting any Outliers"
   ]
  },
  {
   "cell_type": "markdown",
   "id": "6e9c4a62",
   "metadata": {},
   "source": [
    "**Outliers are the data entries that are far beyond our IQR<br>**\n",
    "**IQR (Inter-Quartile-Range): It is the range between absolute lower bound and upper bound of the class.**<br>\n",
    "For instance marks for any subject will always be between 0 to 100. If marks are beyond 100 or below 0 (i.e. Negative) we can call them as outliers for our dataset since they don't seem to follow our criteria. Outliers can cause our model to be misleaded by false values, hence outlier treatment is very important.<br>\n",
    "To treat an outlier we simply need to remove it, since they cannot be scaled down or scaled up by any means.<br><br>\n",
    "**How to find outliers?**<br>\n",
    "1. Box Plots\n",
    "2. Scatter Plots\n",
    "3. Box-Whiskers Plots (Uncommon)"
   ]
  },
  {
   "cell_type": "code",
   "execution_count": 283,
   "id": "8f08323a",
   "metadata": {},
   "outputs": [
    {
     "name": "stderr",
     "output_type": "stream",
     "text": [
      "C:\\Users\\sahil\\anaconda3\\lib\\site-packages\\seaborn\\_decorators.py:36: FutureWarning: Pass the following variable as a keyword arg: x. From version 0.12, the only valid positional argument will be `data`, and passing other arguments without an explicit keyword will result in an error or misinterpretation.\n",
      "  warnings.warn(\n"
     ]
    },
    {
     "data": {
      "text/plain": [
       "<AxesSubplot:xlabel='Physics'>"
      ]
     },
     "execution_count": 283,
     "metadata": {},
     "output_type": "execute_result"
    },
    {
     "data": {
      "image/png": "[encoded data removed]",
      "text/plain": [
       "<Figure size 432x288 with 1 Axes>"
      ]
     },
     "metadata": {
      "needs_background": "light"
     },
     "output_type": "display_data"
    }
   ],
   "source": [
    "# Finding outliers in Physics\n",
    "\n",
    "sns.boxplot(df['Physics'])"
   ]
  },
  {
   "cell_type": "code",
   "execution_count": 284,
   "id": "614a8caa",
   "metadata": {},
   "outputs": [
    {
     "name": "stderr",
     "output_type": "stream",
     "text": [
      "C:\\Users\\sahil\\anaconda3\\lib\\site-packages\\seaborn\\_decorators.py:36: FutureWarning: Pass the following variable as a keyword arg: x. From version 0.12, the only valid positional argument will be `data`, and passing other arguments without an explicit keyword will result in an error or misinterpretation.\n",
      "  warnings.warn(\n"
     ]
    },
    {
     "data": {
      "text/plain": [
       "<AxesSubplot:xlabel='Mathematics'>"
      ]
     },
     "execution_count": 284,
     "metadata": {},
     "output_type": "execute_result"
    },
    {
     "data": {
      "image/png": "[encoded data removed]",
      "text/plain": [
       "<Figure size 432x288 with 1 Axes>"
      ]
     },
     "metadata": {
      "needs_background": "light"
     },
     "output_type": "display_data"
    }
   ],
   "source": [
    "# Finding outliers in Mathematics\n",
    "\n",
    "sns.boxplot(df['Mathematics'])"
   ]
  },
  {
   "cell_type": "code",
   "execution_count": 285,
   "id": "e0405132",
   "metadata": {},
   "outputs": [
    {
     "name": "stderr",
     "output_type": "stream",
     "text": [
      "C:\\Users\\sahil\\anaconda3\\lib\\site-packages\\seaborn\\_decorators.py:36: FutureWarning: Pass the following variable as a keyword arg: x. From version 0.12, the only valid positional argument will be `data`, and passing other arguments without an explicit keyword will result in an error or misinterpretation.\n",
      "  warnings.warn(\n"
     ]
    },
    {
     "data": {
      "text/plain": [
       "<AxesSubplot:xlabel='Chemistry'>"
      ]
     },
     "execution_count": 285,
     "metadata": {},
     "output_type": "execute_result"
    },
    {
     "data": {
      "image/png": "[encoded data removed]",
      "text/plain": [
       "<Figure size 432x288 with 1 Axes>"
      ]
     },
     "metadata": {
      "needs_background": "light"
     },
     "output_type": "display_data"
    }
   ],
   "source": [
    "# Finding outliers in Chemistry\n",
    "\n",
    "sns.boxplot(df['Chemistry'])"
   ]
  },
  {
   "cell_type": "code",
   "execution_count": 286,
   "id": "e01e3d5a",
   "metadata": {},
   "outputs": [
    {
     "name": "stderr",
     "output_type": "stream",
     "text": [
      "C:\\Users\\sahil\\anaconda3\\lib\\site-packages\\seaborn\\_decorators.py:36: FutureWarning: Pass the following variable as a keyword arg: x. From version 0.12, the only valid positional argument will be `data`, and passing other arguments without an explicit keyword will result in an error or misinterpretation.\n",
      "  warnings.warn(\n"
     ]
    },
    {
     "data": {
      "text/plain": [
       "<AxesSubplot:xlabel='AI'>"
      ]
     },
     "execution_count": 286,
     "metadata": {},
     "output_type": "execute_result"
    },
    {
     "data": {
      "image/png": "[encoded data removed]",
      "text/plain": [
       "<Figure size 432x288 with 1 Axes>"
      ]
     },
     "metadata": {
      "needs_background": "light"
     },
     "output_type": "display_data"
    }
   ],
   "source": [
    "# Finding outliers in AI\n",
    "\n",
    "sns.boxplot(df['AI'])"
   ]
  },
  {
   "cell_type": "markdown",
   "id": "d17db66f",
   "metadata": {},
   "source": [
    "**There are outliers only in Chemistry, rest contains no outliers.**"
   ]
  },
  {
   "cell_type": "markdown",
   "id": "4c210818",
   "metadata": {},
   "source": [
    "## Treating Outliers of Physics using IQR"
   ]
  },
  {
   "cell_type": "code",
   "execution_count": 287,
   "id": "07c87545",
   "metadata": {},
   "outputs": [
    {
     "name": "stdout",
     "output_type": "stream",
     "text": [
      "Old Shape of Dataset: (784, 8)\n",
      "New Shape of Dataset: (784, 8)\n"
     ]
    }
   ],
   "source": [
    "# Note: If there is any warnings/errors in this bit of code, just re-run from the start, EVERYTHNG!\n",
    "\n",
    "Q1 = np.percentile(df['Physics'], 25, interpolation = 'midpoint')\n",
    "Q3 = np.percentile(df['Physics'], 75, interpolation = 'midpoint')\n",
    "IQR = Q3 - Q1\n",
    "\n",
    "print(\"Old Shape of Dataset: {}\".format(df.shape))\n",
    "\n",
    "# Upper bound\n",
    "upper = np.where(df['Physics'] >= (Q3+1.5*IQR))\n",
    "\n",
    "# Lower bound\n",
    "lower = np.where(df['Physics'] <= (Q1-1.5*IQR))\n",
    "\n",
    "df.drop(upper[0], inplace = True)\n",
    "df.drop(lower[0], inplace = True)\n",
    " \n",
    "print(\"New Shape of Dataset: {}\".format(df.shape))"
   ]
  },
  {
   "cell_type": "markdown",
   "id": "ffa64d1f",
   "metadata": {},
   "source": [
    "## Treating Outliers of Mathematics using IQR"
   ]
  },
  {
   "cell_type": "code",
   "execution_count": 288,
   "id": "0c86b0ea",
   "metadata": {},
   "outputs": [
    {
     "name": "stdout",
     "output_type": "stream",
     "text": [
      "Old Shape of Dataset: (784, 8)\n",
      "New Shape of Dataset: (784, 8)\n"
     ]
    }
   ],
   "source": [
    "# Note: If there is any warnings/errors in this bit of code, just re-run from the start, EVERYTHNG!\n",
    "\n",
    "Q1 = np.percentile(df['Mathematics'], 25, interpolation = 'midpoint')\n",
    "Q3 = np.percentile(df['Mathematics'], 75, interpolation = 'midpoint')\n",
    "IQR = Q3 - Q1\n",
    "\n",
    "print(\"Old Shape of Dataset: {}\".format(df.shape))\n",
    "\n",
    "# Upper bound\n",
    "upper = np.where(df['Mathematics'] >= (Q3+1.5*IQR))\n",
    "\n",
    "# Lower bound\n",
    "lower = np.where(df['Mathematics'] <= (Q1-1.5*IQR))\n",
    "\n",
    "df.drop(upper[0], inplace = True)\n",
    "df.drop(lower[0], inplace = True)\n",
    " \n",
    "print(\"New Shape of Dataset: {}\".format(df.shape))"
   ]
  },
  {
   "cell_type": "markdown",
   "id": "9023a484",
   "metadata": {},
   "source": [
    "## Treating Outliers of Chemistry using IQR"
   ]
  },
  {
   "cell_type": "code",
   "execution_count": 289,
   "id": "10f0534f",
   "metadata": {},
   "outputs": [
    {
     "name": "stdout",
     "output_type": "stream",
     "text": [
      "Old Shape of Dataset: (784, 8)\n",
      "New Shape of Dataset: (689, 8)\n"
     ]
    }
   ],
   "source": [
    "# Note: If there is any warnings/errors in this bit of code, just re-run from the start, EVERYTHNG!\n",
    "\n",
    "Q1 = np.percentile(df['Chemistry'], 25, interpolation = 'midpoint')\n",
    "Q3 = np.percentile(df['Chemistry'], 75, interpolation = 'midpoint')\n",
    "IQR = Q3 - Q1\n",
    "\n",
    "print(\"Old Shape of Dataset: {}\".format(df.shape))\n",
    "\n",
    "# Upper bound\n",
    "upper = np.where(df['Chemistry'] >= (Q3+1.5*IQR))\n",
    "\n",
    "# Lower bound\n",
    "lower = np.where(df['Chemistry'] <= (Q1-1.5*IQR))\n",
    "\n",
    "df.drop(upper[0], inplace = True)\n",
    "df.drop(lower[0], inplace = True)\n",
    " \n",
    "print(\"New Shape of Dataset: {}\".format(df.shape))"
   ]
  },
  {
   "cell_type": "markdown",
   "id": "2c81bd97",
   "metadata": {},
   "source": [
    "## Treating Outliers of AI using IQR"
   ]
  },
  {
   "cell_type": "code",
   "execution_count": 290,
   "id": "7f436d08",
   "metadata": {},
   "outputs": [
    {
     "name": "stdout",
     "output_type": "stream",
     "text": [
      "Old Shape of Dataset: (689, 8)\n",
      "New Shape of Dataset: (689, 8)\n"
     ]
    }
   ],
   "source": [
    "# Note: If there is any warnings/errors in this bit of code, just re-run from the start, EVERYTHNG!\n",
    "\n",
    "Q1 = np.percentile(df['AI'], 25, interpolation = 'midpoint')\n",
    "Q3 = np.percentile(df['AI'], 75, interpolation = 'midpoint')\n",
    "IQR = Q3 - Q1\n",
    "\n",
    "print(\"Old Shape of Dataset: {}\".format(df.shape))\n",
    "\n",
    "# Upper bound\n",
    "upper = np.where(df['AI'] >= (Q3+1.5*IQR))\n",
    "\n",
    "# Lower bound\n",
    "lower = np.where(df['AI'] <= (Q1-1.5*IQR))\n",
    "\n",
    "df.drop(upper[0], inplace = True)\n",
    "df.drop(lower[0], inplace = True)\n",
    " \n",
    "print(\"New Shape of Dataset: {}\".format(df.shape))"
   ]
  },
  {
   "cell_type": "markdown",
   "id": "162d5bec",
   "metadata": {},
   "source": [
    "## Re-Checking for any outliers"
   ]
  },
  {
   "cell_type": "code",
   "execution_count": 291,
   "id": "878cf8a0",
   "metadata": {},
   "outputs": [
    {
     "name": "stderr",
     "output_type": "stream",
     "text": [
      "C:\\Users\\sahil\\anaconda3\\lib\\site-packages\\seaborn\\_decorators.py:36: FutureWarning: Pass the following variable as a keyword arg: x. From version 0.12, the only valid positional argument will be `data`, and passing other arguments without an explicit keyword will result in an error or misinterpretation.\n",
      "  warnings.warn(\n"
     ]
    },
    {
     "data": {
      "text/plain": [
       "<AxesSubplot:xlabel='Physics'>"
      ]
     },
     "execution_count": 291,
     "metadata": {},
     "output_type": "execute_result"
    },
    {
     "data": {
      "image/png": "[encoded data removed]",
      "text/plain": [
       "<Figure size 432x288 with 1 Axes>"
      ]
     },
     "metadata": {
      "needs_background": "light"
     },
     "output_type": "display_data"
    }
   ],
   "source": [
    "# Finding outliers in Physics\n",
    "\n",
    "sns.boxplot(df['Physics'])"
   ]
  },
  {
   "cell_type": "code",
   "execution_count": 292,
   "id": "a578c72c",
   "metadata": {},
   "outputs": [
    {
     "name": "stderr",
     "output_type": "stream",
     "text": [
      "C:\\Users\\sahil\\anaconda3\\lib\\site-packages\\seaborn\\_decorators.py:36: FutureWarning: Pass the following variable as a keyword arg: x. From version 0.12, the only valid positional argument will be `data`, and passing other arguments without an explicit keyword will result in an error or misinterpretation.\n",
      "  warnings.warn(\n"
     ]
    },
    {
     "data": {
      "text/plain": [
       "<AxesSubplot:xlabel='Mathematics'>"
      ]
     },
     "execution_count": 292,
     "metadata": {},
     "output_type": "execute_result"
    },
    {
     "data": {
      "image/png": "[encoded data removed]",
      "text/plain": [
       "<Figure size 432x288 with 1 Axes>"
      ]
     },
     "metadata": {
      "needs_background": "light"
     },
     "output_type": "display_data"
    }
   ],
   "source": [
    "# Finding outliers in Mathematics\n",
    "\n",
    "sns.boxplot(df['Mathematics'])"
   ]
  },
  {
   "cell_type": "code",
   "execution_count": 293,
   "id": "b5306326",
   "metadata": {},
   "outputs": [
    {
     "name": "stderr",
     "output_type": "stream",
     "text": [
      "C:\\Users\\sahil\\anaconda3\\lib\\site-packages\\seaborn\\_decorators.py:36: FutureWarning: Pass the following variable as a keyword arg: x. From version 0.12, the only valid positional argument will be `data`, and passing other arguments without an explicit keyword will result in an error or misinterpretation.\n",
      "  warnings.warn(\n"
     ]
    },
    {
     "data": {
      "text/plain": [
       "<AxesSubplot:xlabel='Chemistry'>"
      ]
     },
     "execution_count": 293,
     "metadata": {},
     "output_type": "execute_result"
    },
    {
     "data": {
      "image/png": "[encoded data removed]",
      "text/plain": [
       "<Figure size 432x288 with 1 Axes>"
      ]
     },
     "metadata": {
      "needs_background": "light"
     },
     "output_type": "display_data"
    }
   ],
   "source": [
    "# Finding outliers in Chemistry\n",
    "\n",
    "sns.boxplot(df['Chemistry'])"
   ]
  },
  {
   "cell_type": "code",
   "execution_count": 294,
   "id": "df6cee0d",
   "metadata": {},
   "outputs": [
    {
     "name": "stderr",
     "output_type": "stream",
     "text": [
      "C:\\Users\\sahil\\anaconda3\\lib\\site-packages\\seaborn\\_decorators.py:36: FutureWarning: Pass the following variable as a keyword arg: x. From version 0.12, the only valid positional argument will be `data`, and passing other arguments without an explicit keyword will result in an error or misinterpretation.\n",
      "  warnings.warn(\n"
     ]
    },
    {
     "data": {
      "text/plain": [
       "<AxesSubplot:xlabel='AI'>"
      ]
     },
     "execution_count": 294,
     "metadata": {},
     "output_type": "execute_result"
    },
    {
     "data": {
      "image/png": "[encoded data removed]",
      "text/plain": [
       "<Figure size 432x288 with 1 Axes>"
      ]
     },
     "metadata": {
      "needs_background": "light"
     },
     "output_type": "display_data"
    }
   ],
   "source": [
    "# Finding outliers in AI\n",
    "\n",
    "sns.boxplot(df['AI'])"
   ]
  },
  {
   "cell_type": "markdown",
   "id": "8bd5f712",
   "metadata": {},
   "source": [
    "**The plots above shows that there are absolutely no outliers left.**"
   ]
  },
  {
   "cell_type": "markdown",
   "id": "6c558d23",
   "metadata": {},
   "source": [
    "# Part-III Data Transformation\n",
    "### Data Transformation increases the read-ability of any column\n",
    "**Here we choose to transform the 'DOB' column and break it down into 'Birth_Year' and 'Birth_Month'.**"
   ]
  },
  {
   "cell_type": "code",
   "execution_count": 295,
   "id": "3c431677",
   "metadata": {},
   "outputs": [],
   "source": [
    "# If you re-call the Dtype of 'DOB' column, then you may know that it is of type Object\n",
    "# A date cannot be interpreted correctly as object\n",
    "# So here we convert it's type from Object to Datetime\n",
    "\n",
    "df['DOB'] =  pd.to_datetime(df['DOB'])"
   ]
  },
  {
   "cell_type": "code",
   "execution_count": 296,
   "id": "c0089531",
   "metadata": {},
   "outputs": [
    {
     "name": "stdout",
     "output_type": "stream",
     "text": [
      "<class 'pandas.core.frame.DataFrame'>\n",
      "Int64Index: 689 entries, 0 to 783\n",
      "Data columns (total 8 columns):\n",
      " #   Column        Non-Null Count  Dtype         \n",
      "---  ------        --------------  -----         \n",
      " 0   Student Name  689 non-null    object        \n",
      " 1   Department    689 non-null    object        \n",
      " 2   Physics       689 non-null    float64       \n",
      " 3   Mathematics   689 non-null    float64       \n",
      " 4   Chemistry     689 non-null    float64       \n",
      " 5   AI            689 non-null    float64       \n",
      " 6   Term Work     689 non-null    int64         \n",
      " 7   DOB           689 non-null    datetime64[ns]\n",
      "dtypes: datetime64[ns](1), float64(4), int64(1), object(2)\n",
      "memory usage: 64.6+ KB\n"
     ]
    }
   ],
   "source": [
    "# Here you can check the Dtype of 7th Row (DOB), it will be converted datetime65[ns]\n",
    "\n",
    "df.info()"
   ]
  },
  {
   "cell_type": "code",
   "execution_count": 297,
   "id": "512bd936",
   "metadata": {},
   "outputs": [],
   "source": [
    "df['Birth_Year'] = pd.DatetimeIndex(df['DOB']).year   # Used to extract year from datetime65[ns] entity\n",
    "df['Birth_Month'] = df['DOB'].dt.month_name(locale='English') # Find the name of month with the help of month number\n",
    "\n",
    "# For instance if month number indicates 1 then it will give us January, and vice-versa."
   ]
  },
  {
   "cell_type": "code",
   "execution_count": 298,
   "id": "388dcba0",
   "metadata": {},
   "outputs": [
    {
     "data": {
      "text/html": [
       "<div>\n",
       "<style scoped>\n",
       "    .dataframe tbody tr th:only-of-type {\n",
       "        vertical-align: middle;\n",
       "    }\n",
       "\n",
       "    .dataframe tbody tr th {\n",
       "        vertical-align: top;\n",
       "    }\n",
       "\n",
       "    .dataframe thead th {\n",
       "        text-align: right;\n",
       "    }\n",
       "</style>\n",
       "<table border=\"1\" class=\"dataframe\">\n",
       "  <thead>\n",
       "    <tr style=\"text-align: right;\">\n",
       "      <th></th>\n",
       "      <th>Student Name</th>\n",
       "      <th>Department</th>\n",
       "      <th>Physics</th>\n",
       "      <th>Mathematics</th>\n",
       "      <th>Chemistry</th>\n",
       "      <th>AI</th>\n",
       "      <th>Term Work</th>\n",
       "      <th>DOB</th>\n",
       "      <th>Birth_Year</th>\n",
       "      <th>Birth_Month</th>\n",
       "    </tr>\n",
       "  </thead>\n",
       "  <tbody>\n",
       "    <tr>\n",
       "      <th>0</th>\n",
       "      <td>Theresa Blue</td>\n",
       "      <td>COMPUTER</td>\n",
       "      <td>62.000000</td>\n",
       "      <td>4.000000</td>\n",
       "      <td>64.1</td>\n",
       "      <td>74.0</td>\n",
       "      <td>8</td>\n",
       "      <td>2003-02-19</td>\n",
       "      <td>2003</td>\n",
       "      <td>February</td>\n",
       "    </tr>\n",
       "    <tr>\n",
       "      <th>3</th>\n",
       "      <td>Diane Griffin</td>\n",
       "      <td>ENTC</td>\n",
       "      <td>58.000000</td>\n",
       "      <td>69.000000</td>\n",
       "      <td>53.0</td>\n",
       "      <td>21.6</td>\n",
       "      <td>7</td>\n",
       "      <td>2001-04-05</td>\n",
       "      <td>2001</td>\n",
       "      <td>April</td>\n",
       "    </tr>\n",
       "    <tr>\n",
       "      <th>6</th>\n",
       "      <td>Darnell Arredondo</td>\n",
       "      <td>COMPUTER</td>\n",
       "      <td>72.000000</td>\n",
       "      <td>30.000000</td>\n",
       "      <td>20.0</td>\n",
       "      <td>19.1</td>\n",
       "      <td>10</td>\n",
       "      <td>2003-05-14</td>\n",
       "      <td>2003</td>\n",
       "      <td>May</td>\n",
       "    </tr>\n",
       "    <tr>\n",
       "      <th>7</th>\n",
       "      <td>Twyla Brown</td>\n",
       "      <td>COMPUTER</td>\n",
       "      <td>47.000000</td>\n",
       "      <td>46.600000</td>\n",
       "      <td>61.6</td>\n",
       "      <td>85.0</td>\n",
       "      <td>9</td>\n",
       "      <td>2003-04-03</td>\n",
       "      <td>2003</td>\n",
       "      <td>April</td>\n",
       "    </tr>\n",
       "    <tr>\n",
       "      <th>8</th>\n",
       "      <td>Fernando Lai</td>\n",
       "      <td>COMPUTER</td>\n",
       "      <td>58.491852</td>\n",
       "      <td>4.000000</td>\n",
       "      <td>68.2</td>\n",
       "      <td>33.2</td>\n",
       "      <td>2</td>\n",
       "      <td>2002-03-28</td>\n",
       "      <td>2002</td>\n",
       "      <td>March</td>\n",
       "    </tr>\n",
       "    <tr>\n",
       "      <th>...</th>\n",
       "      <td>...</td>\n",
       "      <td>...</td>\n",
       "      <td>...</td>\n",
       "      <td>...</td>\n",
       "      <td>...</td>\n",
       "      <td>...</td>\n",
       "      <td>...</td>\n",
       "      <td>...</td>\n",
       "      <td>...</td>\n",
       "      <td>...</td>\n",
       "    </tr>\n",
       "    <tr>\n",
       "      <th>777</th>\n",
       "      <td>Michelle Brown</td>\n",
       "      <td>COMPUTER</td>\n",
       "      <td>58.491852</td>\n",
       "      <td>55.071655</td>\n",
       "      <td>37.0</td>\n",
       "      <td>27.1</td>\n",
       "      <td>3</td>\n",
       "      <td>2002-02-03</td>\n",
       "      <td>2002</td>\n",
       "      <td>February</td>\n",
       "    </tr>\n",
       "    <tr>\n",
       "      <th>779</th>\n",
       "      <td>Melinda Haynes</td>\n",
       "      <td>COMPUTER</td>\n",
       "      <td>2.000000</td>\n",
       "      <td>92.000000</td>\n",
       "      <td>42.0</td>\n",
       "      <td>3.8</td>\n",
       "      <td>1</td>\n",
       "      <td>2003-09-03</td>\n",
       "      <td>2003</td>\n",
       "      <td>September</td>\n",
       "    </tr>\n",
       "    <tr>\n",
       "      <th>781</th>\n",
       "      <td>Joyce Eck</td>\n",
       "      <td>MECHANICAL</td>\n",
       "      <td>58.491852</td>\n",
       "      <td>92.000000</td>\n",
       "      <td>72.7</td>\n",
       "      <td>48.0</td>\n",
       "      <td>1</td>\n",
       "      <td>2002-03-05</td>\n",
       "      <td>2002</td>\n",
       "      <td>March</td>\n",
       "    </tr>\n",
       "    <tr>\n",
       "      <th>782</th>\n",
       "      <td>Travis Spenser</td>\n",
       "      <td>ENTC</td>\n",
       "      <td>85.000000</td>\n",
       "      <td>86.000000</td>\n",
       "      <td>88.0</td>\n",
       "      <td>78.0</td>\n",
       "      <td>6</td>\n",
       "      <td>2002-04-04</td>\n",
       "      <td>2002</td>\n",
       "      <td>April</td>\n",
       "    </tr>\n",
       "    <tr>\n",
       "      <th>783</th>\n",
       "      <td>Aurora Miles</td>\n",
       "      <td>MECHANICAL</td>\n",
       "      <td>100.000000</td>\n",
       "      <td>69.000000</td>\n",
       "      <td>46.0</td>\n",
       "      <td>34.3</td>\n",
       "      <td>2</td>\n",
       "      <td>2003-05-22</td>\n",
       "      <td>2003</td>\n",
       "      <td>May</td>\n",
       "    </tr>\n",
       "  </tbody>\n",
       "</table>\n",
       "<p>689 rows × 10 columns</p>\n",
       "</div>"
      ],
      "text/plain": [
       "          Student Name  Department     Physics  Mathematics  Chemistry    AI  \\\n",
       "0         Theresa Blue    COMPUTER   62.000000     4.000000       64.1  74.0   \n",
       "3        Diane Griffin        ENTC   58.000000    69.000000       53.0  21.6   \n",
       "6    Darnell Arredondo    COMPUTER   72.000000    30.000000       20.0  19.1   \n",
       "7          Twyla Brown    COMPUTER   47.000000    46.600000       61.6  85.0   \n",
       "8         Fernando Lai    COMPUTER   58.491852     4.000000       68.2  33.2   \n",
       "..                 ...         ...         ...          ...        ...   ...   \n",
       "777     Michelle Brown    COMPUTER   58.491852    55.071655       37.0  27.1   \n",
       "779     Melinda Haynes    COMPUTER    2.000000    92.000000       42.0   3.8   \n",
       "781          Joyce Eck  MECHANICAL   58.491852    92.000000       72.7  48.0   \n",
       "782     Travis Spenser        ENTC   85.000000    86.000000       88.0  78.0   \n",
       "783       Aurora Miles  MECHANICAL  100.000000    69.000000       46.0  34.3   \n",
       "\n",
       "     Term Work        DOB  Birth_Year Birth_Month  \n",
       "0            8 2003-02-19        2003    February  \n",
       "3            7 2001-04-05        2001       April  \n",
       "6           10 2003-05-14        2003         May  \n",
       "7            9 2003-04-03        2003       April  \n",
       "8            2 2002-03-28        2002       March  \n",
       "..         ...        ...         ...         ...  \n",
       "777          3 2002-02-03        2002    February  \n",
       "779          1 2003-09-03        2003   September  \n",
       "781          1 2002-03-05        2002       March  \n",
       "782          6 2002-04-04        2002       April  \n",
       "783          2 2003-05-22        2003         May  \n",
       "\n",
       "[689 rows x 10 columns]"
      ]
     },
     "execution_count": 298,
     "metadata": {},
     "output_type": "execute_result"
    }
   ],
   "source": [
    "df"
   ]
  },
  {
   "cell_type": "code",
   "execution_count": 299,
   "id": "b29a4242",
   "metadata": {},
   "outputs": [],
   "source": [
    "# Created by Sahil Naik\n",
    "# Dated: 17/02/2023 20:45:15"
   ]
  }
 ],
 "metadata": {
  "kernelspec": {
   "display_name": "Python 3",
   "language": "python",
   "name": "python3"
  },
  "language_info": {
   "codemirror_mode": {
    "name": "ipython",
    "version": 3
   },
   "file_extension": ".py",
   "mimetype": "text/x-python",
   "name": "python",
   "nbconvert_exporter": "python",
   "pygments_lexer": "ipython3",
   "version": "3.8.8"
  }
 },
 "nbformat": 4,
 "nbformat_minor": 5
}
