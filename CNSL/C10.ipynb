{
 "cells": [
  {
   "cell_type": "code",
   "execution_count": 1,
   "metadata": {},
   "outputs": [
    {
     "name": "stdout",
     "output_type": "stream",
     "text": [
      "Enter IP address: 192.168.3.254\n",
      "Enter no of addresses: 7\n",
      "Number of bits : 3 \n",
      "Binary IP is :11000000101010000000001111111110\n",
      "Subnet mask is (CIDR) : 29 \n",
      "(Staring address)Network ID is : 192.168.3.248\n",
      "(Ending address)Broadcast ID is : 192.168.3.255\n"
     ]
    }
   ],
   "source": [
    "import math\n",
    "ip = input(\"Enter IP address: \")\n",
    "n = int(input(\"Enter no of addresses: \"))\n",
    "bits = math.ceil(math.log(n,2))\n",
    "print(\"Number of bits : {} \".format(bits))\n",
    "mask = 32-bits\n",
    "addr = ip.split('.')\n",
    "binary_ip = \"\"\n",
    "for ip in addr:\n",
    "    b = bin(int(ip))[2:]\n",
    "    b = b.zfill(8)\n",
    "    binary_ip+=b\n",
    "print(\"Binary IP is :\" + binary_ip)\n",
    "print(\"Subnet mask is (CIDR) : {} \".format(mask))\n",
    "bip = []\n",
    "\n",
    "for c in binary_ip:\n",
    "    bip.append(int(c))\n",
    "for i in range(31,31-bits,-1):\n",
    "    bip[i]&=0\n",
    "nums = []\n",
    "for i in range(0,32,8):\n",
    "    nums.append(int(''.join([str(x) for x in bip[i:i+8]]),2))\n",
    "print(\"(Staring address)Network ID is : {}\".format('.'.join([str(x) for x in nums])))\n",
    "\n",
    "bip = []\n",
    "for c in binary_ip:\n",
    "        bip.append(int(c))\n",
    "for i in range(31,31-bits,-1):\n",
    "        bip[i]|=1\n",
    "nums = []\n",
    "for i in range(0,32,8):\n",
    "        nums.append(int(''.join([str(x) for x in bip[i:i+8]]),2))\n",
    "print(\"(Ending address)Broadcast ID is : {}\".format('.'.join([str(x) for x in nums])))"
   ]
  }
 ],
 "metadata": {
  "kernelspec": {
   "display_name": "Python 3",
   "language": "python",
   "name": "python3"
  },
  "language_info": {
   "codemirror_mode": {
    "name": "ipython",
    "version": 3
   },
   "file_extension": ".py",
   "mimetype": "text/x-python",
   "name": "python",
   "nbconvert_exporter": "python",
   "pygments_lexer": "ipython3",
   "version": "3.7.3"
  }
 },
 "nbformat": 4,
 "nbformat_minor": 2
}
