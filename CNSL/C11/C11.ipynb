{
 "cells": [
  {
   "cell_type": "code",
   "execution_count": null,
   "metadata": {},
   "outputs": [
    {
     "name": "stdout",
     "output_type": "stream",
     "text": [
      "\n",
      " Menu\n",
      " 1.Get host by name \n",
      " 2.Get host by address \n",
      " 3.Quit\n",
      " \n",
      " Enter your choice: 1\n",
      " \n",
      " Enter URL: www.facebook.com\n",
      "IP address is: 157.240.16.35\n",
      "\n",
      " Menu\n",
      " 1.Get host by name \n",
      " 2.Get host by address \n",
      " 3.Quit\n",
      " \n",
      " Enter your choice: 2\n",
      "\n",
      " Enter IP :  157.240.16.35\n",
      "URL is: ('edge-star-mini-shv-01-bom1.facebook.com', [], ['157.240.16.35'])\n",
      "\n",
      " Menu\n",
      " 1.Get host by name \n",
      " 2.Get host by address \n",
      " 3.Quit\n",
      " \n",
      " Enter your choice: 3\n",
      "\n",
      " Menu\n",
      " 1.Get host by name \n",
      " 2.Get host by address \n",
      " 3.Quit\n",
      " \n",
      " Enter your choice: 3\n",
      "\n",
      " Menu\n",
      " 1.Get host by name \n",
      " 2.Get host by address \n",
      " 3.Quit\n"
     ]
    }
   ],
   "source": [
    "import socket\n",
    "choose=True\n",
    "while choose:\n",
    "        \n",
    "        print(\"\\n Menu\\n 1.Get host by name \\n 2.Get host by address \\n 3.Quit\")\n",
    "        choose=input(\" \\n Enter your choice: \")\n",
    "        \n",
    "        if choose==\"1\":\n",
    "                a=input(\" \\n Enter URL: \")\n",
    "                addr1=socket.gethostbyname(a)\n",
    "                print(\"IP address is:\",addr1)\n",
    "        \n",
    "        elif choose==\"2\":\n",
    "               b=input(\"\\n Enter IP :  \")\n",
    "               addr2=socket.gethostbyaddr(b)\n",
    "               print(\"URL is:\",addr2)\n",
    "        \n",
    "        elif choose==\"3\":\n",
    "               exit()\n",
    "        \n",
    "        else:\n",
    "                print(\"\\n Invalid choice,please try again \\n\")"
   ]
  }
 ],
 "metadata": {
  "kernelspec": {
   "display_name": "Python 3",
   "language": "python",
   "name": "python3"
  },
  "language_info": {
   "codemirror_mode": {
    "name": "ipython",
    "version": 3
   },
   "file_extension": ".py",
   "mimetype": "text/x-python",
   "name": "python",
   "nbconvert_exporter": "python",
   "pygments_lexer": "ipython3",
   "version": "3.7.3"
  }
 },
 "nbformat": 4,
 "nbformat_minor": 2
}
